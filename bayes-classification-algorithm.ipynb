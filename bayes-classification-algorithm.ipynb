{
 "cells": [
  {
   "cell_type": "markdown",
   "id": "746bb774-1927-4a2a-bdbb-cd054d8c324c",
   "metadata": {},
   "source": [
    "Naïve Bayes' classification algorithm\n",
    "\n",
    "*Author: Francisco Javier Sánchez Panduro\\\n",
    "Supervised by Professor Doctor Brenda García Maya\\\n",
    "Monterrey Institute of Tecnology and Higher Studies\\\n",
    "21 of August 2023*"
   ]
  },
  {
   "cell_type": "markdown",
   "id": "a2c6e5c2-817c-4f3d-b2d4-e63dbd6008f3",
   "metadata": {},
   "source": [
    "# Introduction\n",
    "According to Saritas and Yasar (2019), the Naive Bayes algorithm is a probability classifier that calculates probability by counting the frequency and combination of values in a given data set. It is based on Bayes' Theorem and makes the naive assumption that all variables are independant. \n",
    "\n",
    "In this document we aim to apply Naive Bayes' classifcation algorithm to predict using age and estimated salary weather they could be a potential buyer. \n",
    "\n",
    "# Bayes theorem\n",
    "\n",
    "According to Saritas and Yasar (2019), Bayes' theorem goes as follows:\n",
    "\n",
    "$$\n",
    "P(A|B) = \\frac{P(A)·P(B|A)}{P(B)}\n",
    "$$\n",
    "\n",
    "Where:\n",
    "\n",
    "$P(A)$ is the probability of occurrence of event $A$.\\\n",
    "$P(B)$ is the probability of occurrence of event $B$.\\\n",
    "$P(A|B)$ is the probability of the occurrence of event $A$ when event $B$ occurs.\\\n",
    "$P(B|A)$ is the probability of occurrence of event $B$ when event $A$ occurs.\n",
    "\n",
    "Naive Bayes is employed to generate a confusion matrix, wherein the accurately predicted values are juxtaposed against the actual values. In this matrix, the diagonal elements signify the accurate predictions, while the remaining values indicate instances of incorrect predictions."
   ]
  },
  {
   "cell_type": "markdown",
   "id": "739f5b8d-6313-4c40-b31c-8ac7bfdde55a",
   "metadata": {},
   "source": [
    "# Application\n",
    "\n",
    "## Libraries to be used"
   ]
  },
  {
   "cell_type": "code",
   "execution_count": 1,
   "id": "a52de336-31bb-45a1-8dac-9cefc3e83e51",
   "metadata": {},
   "outputs": [],
   "source": [
    "import pandas as pd\n",
    "from sklearn.model_selection import train_test_split\n",
    "from sklearn.naive_bayes import GaussianNB\n",
    "from sklearn.metrics import confusion_matrix\n",
    "import matplotlib.pyplot as plt\n",
    "import seaborn as sns"
   ]
  },
  {
   "cell_type": "markdown",
   "id": "3c8d1f7a-1339-4582-977c-bc365b4978dc",
   "metadata": {},
   "source": [
    "## Data preparation"
   ]
  },
  {
   "cell_type": "code",
   "execution_count": 2,
   "id": "c83659ce-f6d9-4fee-85eb-169888dccb1b",
   "metadata": {},
   "outputs": [
    {
     "data": {
      "text/html": [
       "<div>\n",
       "<style scoped>\n",
       "    .dataframe tbody tr th:only-of-type {\n",
       "        vertical-align: middle;\n",
       "    }\n",
       "\n",
       "    .dataframe tbody tr th {\n",
       "        vertical-align: top;\n",
       "    }\n",
       "\n",
       "    .dataframe thead th {\n",
       "        text-align: right;\n",
       "    }\n",
       "</style>\n",
       "<table border=\"1\" class=\"dataframe\">\n",
       "  <thead>\n",
       "    <tr style=\"text-align: right;\">\n",
       "      <th></th>\n",
       "      <th>User ID</th>\n",
       "      <th>Gender</th>\n",
       "      <th>Age</th>\n",
       "      <th>EstimatedSalary</th>\n",
       "      <th>Purchased</th>\n",
       "    </tr>\n",
       "  </thead>\n",
       "  <tbody>\n",
       "    <tr>\n",
       "      <th>0</th>\n",
       "      <td>15624510</td>\n",
       "      <td>Male</td>\n",
       "      <td>19</td>\n",
       "      <td>19000</td>\n",
       "      <td>0</td>\n",
       "    </tr>\n",
       "    <tr>\n",
       "      <th>1</th>\n",
       "      <td>15810944</td>\n",
       "      <td>Male</td>\n",
       "      <td>35</td>\n",
       "      <td>20000</td>\n",
       "      <td>0</td>\n",
       "    </tr>\n",
       "    <tr>\n",
       "      <th>2</th>\n",
       "      <td>15668575</td>\n",
       "      <td>Female</td>\n",
       "      <td>26</td>\n",
       "      <td>43000</td>\n",
       "      <td>0</td>\n",
       "    </tr>\n",
       "    <tr>\n",
       "      <th>3</th>\n",
       "      <td>15603246</td>\n",
       "      <td>Female</td>\n",
       "      <td>27</td>\n",
       "      <td>57000</td>\n",
       "      <td>0</td>\n",
       "    </tr>\n",
       "    <tr>\n",
       "      <th>4</th>\n",
       "      <td>15804002</td>\n",
       "      <td>Male</td>\n",
       "      <td>19</td>\n",
       "      <td>76000</td>\n",
       "      <td>0</td>\n",
       "    </tr>\n",
       "  </tbody>\n",
       "</table>\n",
       "</div>"
      ],
      "text/plain": [
       "    User ID  Gender  Age  EstimatedSalary  Purchased\n",
       "0  15624510    Male   19            19000          0\n",
       "1  15810944    Male   35            20000          0\n",
       "2  15668575  Female   26            43000          0\n",
       "3  15603246  Female   27            57000          0\n",
       "4  15804002    Male   19            76000          0"
      ]
     },
     "execution_count": 2,
     "metadata": {},
     "output_type": "execute_result"
    }
   ],
   "source": [
    "df = pd.read_csv('./data/Social_Network_Ads.csv')\n",
    "df.head()"
   ]
  },
  {
   "cell_type": "code",
   "execution_count": 3,
   "id": "aa72010f-995e-4ce3-abf2-f4bf08a6367a",
   "metadata": {},
   "outputs": [],
   "source": [
    "# Split training and testing data\n",
    "# Taking columns 2 and 3 to as independent variables, and column 4 as the dependent variable\n",
    "x_train, x_test, y_train, y_test = train_test_split(df.iloc[:, 2:4], df.iloc[:, 4], test_size=0.2)"
   ]
  },
  {
   "cell_type": "markdown",
   "id": "137c822f-2bf1-44a3-bf66-2628290ee6d3",
   "metadata": {},
   "source": [
    "## Applying naive bayes and creating the confussion matrix"
   ]
  },
  {
   "cell_type": "code",
   "execution_count": 4,
   "id": "6be9dfb2-08db-42b7-9d6e-361fad66dd11",
   "metadata": {},
   "outputs": [],
   "source": [
    "# Create model object\n",
    "nb = GaussianNB()\n",
    "# Fit model to training data \n",
    "nb.fit(x_train, y_train)\n",
    "# Predict dependent variables\n",
    "y_pred = nb.predict(x_test)"
   ]
  },
  {
   "cell_type": "code",
   "execution_count": 5,
   "id": "10c7926a-7e65-41e8-b02c-7910848e4fc9",
   "metadata": {},
   "outputs": [
    {
     "data": {
      "text/plain": [
       "0.8875"
      ]
     },
     "execution_count": 5,
     "metadata": {},
     "output_type": "execute_result"
    }
   ],
   "source": [
    "# Model accuracy\n",
    "nb.score(x_test, y_test)"
   ]
  },
  {
   "cell_type": "code",
   "execution_count": 6,
   "id": "0a6d84ed-ae3f-48a9-b172-f27b69aafde2",
   "metadata": {},
   "outputs": [],
   "source": [
    "### Creating the confussion matrix"
   ]
  },
  {
   "cell_type": "code",
   "execution_count": 7,
   "id": "c2af3906-ac82-40e0-a607-cc645730dcdd",
   "metadata": {},
   "outputs": [],
   "source": [
    "conf_matrix = confusion_matrix(y_test, y_pred)"
   ]
  },
  {
   "cell_type": "code",
   "execution_count": 8,
   "id": "a7d3c595-3129-4796-a20b-2a8d6bb0612b",
   "metadata": {},
   "outputs": [
    {
     "data": {
      "image/png": "[encoded data removed]",
      "text/plain": [
       "<Figure size 800x600 with 1 Axes>"
      ]
     },
     "metadata": {},
     "output_type": "display_data"
    }
   ],
   "source": [
    "# Create a heatmap for the confusion matrix\n",
    "plt.figure(figsize=(8, 6))\n",
    "sns.heatmap(conf_matrix, annot=True, fmt=\"d\", cmap=\"Blues\", cbar=False)\n",
    "plt.xlabel(\"Predicted Labels\")\n",
    "plt.ylabel(\"True Labels\")\n",
    "plt.title(\"Confusion Matrix\")\n",
    "plt.show()"
   ]
  },
  {
   "cell_type": "markdown",
   "id": "1985cf89-6bca-4086-9d08-ae8a5e505898",
   "metadata": {},
   "source": [
    "# References\n",
    "\n",
    "Saritas, M. M., & Yasar, A. (2019). Performance Analysis of ANN and Naive Bayes Classification Algorithm for Data Classification. International Journal of Intelligent Systems and Applications in Engineering, 7(2), 88–91. https://doi.org/10.18201//ijisae.2019252786"
   ]
  }
 ],
 "metadata": {
  "kernelspec": {
   "display_name": "Python 3 (ipykernel)",
   "language": "python",
   "name": "python3"
  },
  "language_info": {
   "codemirror_mode": {
    "name": "ipython",
    "version": 3
   },
   "file_extension": ".py",
   "mimetype": "text/x-python",
   "name": "python",
   "nbconvert_exporter": "python",
   "pygments_lexer": "ipython3",
   "version": "3.11.4"
  }
 },
 "nbformat": 4,
 "nbformat_minor": 5
}
