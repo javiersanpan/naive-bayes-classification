{
 "cells": [
  {
   "cell_type": "markdown",
   "id": "746bb774-1927-4a2a-bdbb-cd054d8c324c",
   "metadata": {},
   "source": [
    "Naïve Bayes classification algorithm\n",
    "\n",
    "*Author: Francisco Javier Sánchez Panduro\\\n",
    "Supervised by Professor Doctor Brenda García Maya\\\n",
    "Monterrey Institute of Tecnology and Higher Studies\\\n",
    "21 of August 2023*"
   ]
  },
  {
   "cell_type": "markdown",
   "id": "a2c6e5c2-817c-4f3d-b2d4-e63dbd6008f3",
   "metadata": {},
   "source": [
    "# Introduction\n",
    "According to Saritas and Yasar (2019), the Naive Bayes algorithm is a probability classifier that calculates probability by counting the frequency and combination of values in a given data set. It is based on Bayes' Theorem and makes the naive assumption that all variables are independant. \n",
    "\n",
    "# Bayes theorem\n",
    "\n",
    "According to Saritas and Yasar (2019), Bayes' theorem goes as follows:\n",
    "\n",
    "$$\n",
    "P(A|B) = \\frac{P(A)·P(B|A)}{P(B)}\n",
    "$$\n",
    "\n",
    "Where:\n",
    "\n",
    "$P(A)$ is the probability of occurrence of event $A$.\\\n",
    "$P(B)$ is the probability of occurrence of event $B$.\\\n",
    "$P(A|B)$ is the probability of the occurrence of event $A$ when event $B$ occurs.\\\n",
    "$P(B|A)$ is the probability of occurrence of event $B$ when event $A$ occurs.\n",
    "\n",
    "Naive Bayes is employed to generate a confusion matrix, wherein the accurately predicted values are juxtaposed against the actual values. In this matrix, the diagonal elements signify the accurate predictions, while the remaining values indicate instances of incorrect predictions."
   ]
  },
  {
   "cell_type": "markdown",
   "id": "1985cf89-6bca-4086-9d08-ae8a5e505898",
   "metadata": {},
   "source": [
    "\n",
    "# References\n",
    "\n",
    "Saritas, M. M., & Yasar, A. (2019). Performance Analysis of ANN and Naive Bayes Classification Algorithm for Data Classification. International Journal of Intelligent Systems and Applications in Engineering, 7(2), 88–91. https://doi.org/10.18201//ijisae.2019252786"
   ]
  },
  {
   "cell_type": "code",
   "execution_count": null,
   "id": "0b8c599b-4a42-43e6-b915-6ddaa3c76c63",
   "metadata": {},
   "outputs": [],
   "source": []
  }
 ],
 "metadata": {
  "kernelspec": {
   "display_name": "Python 3 (ipykernel)",
   "language": "python",
   "name": "python3"
  },
  "language_info": {
   "codemirror_mode": {
    "name": "ipython",
    "version": 3
   },
   "file_extension": ".py",
   "mimetype": "text/x-python",
   "name": "python",
   "nbconvert_exporter": "python",
   "pygments_lexer": "ipython3",
   "version": "3.11.4"
  }
 },
 "nbformat": 4,
 "nbformat_minor": 5
}
